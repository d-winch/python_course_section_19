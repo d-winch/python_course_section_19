{
 "cells": [
  {
   "cell_type": "code",
   "execution_count": 28,
   "metadata": {},
   "outputs": [
    {
     "name": "stdout",
     "output_type": "stream",
     "text": [
      "http://pythonhow.com/real-estate/rock-springs-wy/LCWYROCKSPRINGS/#t=00s=0.html\n",
      "http://pythonhow.com/real-estate/rock-springs-wy/LCWYROCKSPRINGS/#t=00s=10.html\n",
      "http://pythonhow.com/real-estate/rock-springs-wy/LCWYROCKSPRINGS/#t=00s=20.html\n"
     ]
    }
   ],
   "source": [
    "import requests\n",
    "from bs4 import BeautifulSoup\n",
    "import pandas\n",
    "\n",
    "base_url = \"http://pythonhow.com/real-estate/rock-springs-wy/LCWYROCKSPRINGS/#t=00s=\"\n",
    "r = requests.get(base_url + \"0.html\")\n",
    "soup = BeautifulSoup(r.content, \"html.parser\")\n",
    "pages = soup.find_all(\"a\", {\"class\":\"Page\"})[-1].text\n",
    "\n",
    "l=[]\n",
    "for page in range(0,int(pages)*10,10):\n",
    "    \n",
    "    print(base_url + str(page) + \".html\")\n",
    "    r = requests.get(base_url + str(page) + \".html\")\n",
    "    soup = BeautifulSoup(r.content, \"html.parser\")\n",
    "    properties = soup.find_all(\"div\", {\"class\":\"propertyRow\"})\n",
    "    \n",
    "    for p in properties:\n",
    "        d={}\n",
    "        d[\"Price\"] = p.find(\"h4\", {\"class\":\"propPrice\"}).text.replace(\"\\n\",\"\").replace(\" \",\"\")\n",
    "        d[\"Address\"] = p.find_all(\"span\", {\"class\":\"propAddressCollapse\"})[0].text\n",
    "        try:\n",
    "            d[\"Locale\"] = p.find_all(\"span\", {\"class\":\"propAddressCollapse\"})[1].text\n",
    "        except:\n",
    "            d[\"Locale\"] = None\n",
    "            \n",
    "        try:\n",
    "            d[\"Beds\"] = p.find(\"span\", {\"class\":\"infoBed\"}).find(\"b\").text\n",
    "        except:\n",
    "            d[\"Beds\"] = None\n",
    "\n",
    "        try:\n",
    "            d[\"Area\"] = p.find(\"span\", {\"class\":\"infoSqFt\"}).find(\"b\").text\n",
    "        except:\n",
    "            d[\"Area\"] = None\n",
    "\n",
    "        try:\n",
    "            d[\"Full Baths\"] = p.find(\"span\", {\"class\":\"infoValueFullBath\"}).find(\"b\").text\n",
    "        except:\n",
    "            d[\"Full Baths\"] = None\n",
    "\n",
    "        try:\n",
    "            d[\"Half Baths\"] = p.find(\"span\", {\"class\":\"infoValueHalfBath\"}).find(\"b\").text\n",
    "        except:\n",
    "            d[\"Half Baths\"] = None\n",
    "\n",
    "        lot_size = None\n",
    "        for column_group in p.find_all(\"div\", {\"class\":\"columnGroup\"}):\n",
    "            for feature_group, feature_name in zip(column_group.find_all(\"span\", {\"class\":\"featureGroup\"}),column_group.find_all(\"span\", {\"class\":\"featureName\"})):\n",
    "                if \"Lot Size\" in feature_group.text:\n",
    "                    d[\"Lot Size\"] = feature_name.text\n",
    "\n",
    "        l.append(d)\n",
    "        \n",
    "df = pandas.DataFrame(l)\n",
    "df.to_csv(\"Output.csv\")"
   ]
  }
 ],
 "metadata": {
  "kernelspec": {
   "display_name": "Python 3",
   "language": "python",
   "name": "python3"
  },
  "language_info": {
   "codemirror_mode": {
    "name": "ipython",
    "version": 3
   },
   "file_extension": ".py",
   "mimetype": "text/x-python",
   "name": "python",
   "nbconvert_exporter": "python",
   "pygments_lexer": "ipython3",
   "version": "3.6.2"
  }
 },
 "nbformat": 4,
 "nbformat_minor": 2
}
